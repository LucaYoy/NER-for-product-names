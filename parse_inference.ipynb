{
 "cells": [
  {
   "cell_type": "markdown",
   "id": "e83332dd",
   "metadata": {},
   "source": [
    "## Pre-processing"
   ]
  },
  {
   "cell_type": "code",
   "execution_count": 3,
   "id": "0e6fe010",
   "metadata": {},
   "outputs": [],
   "source": [
    "import csv\n",
    "\n",
    "data_list = []\n",
    "\n",
    "csv_file_path = \"furniture_stores_pages.csv\"\n",
    "\n",
    "# Open the CSV file and read its contents\n",
    "with open(csv_file_path, \"r\") as csv_file:\n",
    "    csv_reader = csv.reader(csv_file)\n",
    "\n",
    "    # Iterate over each row in the CSV file\n",
    "    for row in csv_reader:\n",
    "        data_list.append(row[0])"
   ]
  },
  {
   "cell_type": "code",
   "execution_count": 4,
   "id": "1f640fc5",
   "metadata": {},
   "outputs": [
    {
     "data": {
      "text/plain": [
       "['max(page)',\n",
       " 'https://www.factorybuys.com.au/products/euro-top-mattress-king',\n",
       " 'https://dunlin.com.au/products/beadlight-cirrus',\n",
       " 'https://themodern.net.au/products/hamar-plant-stand-ash',\n",
       " 'https://furniturefetish.com.au/products/oslo-office-chair-white']"
      ]
     },
     "execution_count": 4,
     "metadata": {},
     "output_type": "execute_result"
    }
   ],
   "source": [
    "data_list[:5]"
   ]
  },
  {
   "cell_type": "code",
   "execution_count": 5,
   "id": "971aab92",
   "metadata": {},
   "outputs": [],
   "source": [
    "data_list = data_list[1:]"
   ]
  },
  {
   "cell_type": "markdown",
   "id": "f21b8215",
   "metadata": {},
   "source": [
    "seperate the webpages into:\n",
    "- non existend content\n",
    "- content exists but there is no main section in html\n",
    "- content with main section"
   ]
  },
  {
   "cell_type": "code",
   "execution_count": 6,
   "id": "ce597e19",
   "metadata": {},
   "outputs": [],
   "source": [
    "import requests\n",
    "from bs4 import BeautifulSoup\n",
    "\n",
    "def extract_main_content(urls):\n",
    "  not_exits,main_not_exixst,main_text = [],[],[]\n",
    "  for url in urls:\n",
    "\n",
    "    try:\n",
    "      response = requests.get(url)\n",
    "\n",
    "        # Check if the request was successful\n",
    "      if response.status_code == 200:\n",
    "          # Parse the HTML content of the webpage\n",
    "          soup = BeautifulSoup(response.text, 'html.parser')\n",
    "\n",
    "          # Find the main content by inspecting the HTML structure of the webpage\n",
    "          # and locating the relevant tags or classes\n",
    "          main_content = soup.find('main')\n",
    "\n",
    "          # Extract the text from the main content\n",
    "          if main_content:\n",
    "            main_text.append(main_content.get_text())\n",
    "          else:\n",
    "            main_not_exixst.append(url)\n",
    "      else:\n",
    "          not_exits.append(url)\n",
    "    except:\n",
    "      not_exits.append(url)\n",
    "\n",
    "  return not_exits,main_not_exixst,main_text"
   ]
  },
  {
   "cell_type": "code",
   "execution_count": 7,
   "id": "8a282b95",
   "metadata": {},
   "outputs": [],
   "source": [
    "not_exits,main_not_exixst,main_text = extract_main_content(data_list)"
   ]
  },
  {
   "cell_type": "code",
   "execution_count": 32,
   "id": "a596b3d3",
   "metadata": {
    "scrolled": true
   },
   "outputs": [
    {
     "data": {
      "text/plain": [
       "'\\n\\n\\n\\n\\n\\nHoyt Chair\\n\\n\\n\\n\\n\\n\\n\\n\\n\\n\\n\\n\\n\\n\\n\\n\\n\\n\\n\\n\\n View in AR\\n\\n\\n\\n\\nHoyt Chair\\n\\n\\n\\nRegular price\\n\\n          $1,450.00\\n        \\n\\n\\n\\n          Prima Linen - $1,450.00 USD\\n        \\n\\n          Sophie Sky Grey - $1,480.00 USD\\n        \\n\\n          Ease Silver Dollar - $1,450.00 USD\\n        \\n\\n          Simplex Oyster - $1,450.00 USD\\n        \\n\\n          Taylor Felt Grey - $1,450.00 USD\\n        \\n\\n          Vibes Elephant Grey - $1,495.00 USD\\n        \\n\\n          Romo Moon - $1,510.00 USD\\n        \\n\\n          Notion Underground - $1,450.00 USD\\n        \\n\\n          Twist Earl Grey - $1,450.00 USD\\n        \\n\\n          Notion Airstream - $1,450.00 USD\\n        \\n\\n          Vibes Steel - $1,495.00 USD\\n        \\n\\n          Bennett Charcoal - $1,450.00 USD\\n        \\n\\n          Romo Lead - $1,510.00 USD\\n        \\n\\n          Poodle Cloud - $1,510.00 USD\\n        \\n\\n          Nubia Linen - $1,555.00 USD\\n        \\n\\n          Eton Ivory - $1,450.00 USD\\n        \\n\\n          Eton Sand - $1,450.00 USD\\n        \\n\\n          Impact Flurry - $1,450.00 USD\\n        \\n\\n          Maestro Fleece Taupe - $1,450.00 USD\\n        \\n\\n          Simplex French Vanilla - $1,450.00 USD\\n        \\n\\n          Notion Hypnotic - $1,450.00 USD\\n        \\n\\n          Taylor Capri - $1,450.00 USD\\n        \\n\\n          Prestige Teal - $1,480.00 USD\\n        \\n\\n          Notion Odyssey - $1,450.00 USD\\n        \\n\\n          Prestige Navy - $1,480.00 USD\\n        \\n\\n          Julia Navy - $1,525.00 USD\\n        \\n\\n          Prestige Goldenrod - $1,480.00 USD\\n        \\n\\n          Maestro Fleece Loden - $1,450.00 USD\\n        \\n\\n          Prestige Forest - $1,480.00 USD\\n        \\n\\n          Flip Blush - $1,480.00 USD\\n        \\n\\n          Romo Paprika - $1,510.00 USD\\n        \\n\\n          Notion Tang - $1,450.00 USD\\n        \\n\\n          Everglades Graphite - $1,510.00 USD\\n        \\n\\n          Prima Espresso - $1,450.00 USD\\n        \\n\\n          Leather - Mont Blanc Smoke - $2,495.00 USD\\n        \\n\\n          Leather - Echo Limestone - $2,495.00 USD\\n        \\n\\n          Leather - Windsor Mahogany - $2,495.00 USD\\n        \\n\\n          Leather - Notting Hill Bourbon - $2,495.00 USD\\n        \\n\\n          Leather - Mont Blanc Sycamore - $2,495.00 USD\\n        \\n\\n          Leather - Brompton Brown - $2,495.00 USD\\n        \\n\\n          Leather - Brompton Black - $2,495.00 USD\\n        \\n\\n\\n\\n\\nFabrics\\n\\n\\n\\n\\n\\nPrima Linen\\n\\n\\n\\n\\n\\n\\nSophie Sky Grey\\n\\n\\n\\n\\n\\n\\nEase Silver Dollar\\n\\n\\n\\n\\n\\n\\nSimplex Oyster\\n\\n\\n\\n\\n\\n\\nTaylor Felt Grey\\n\\n\\n\\n\\n\\n\\nVibes Elephant Grey\\n\\n\\n\\n\\n\\n\\nRomo Moon\\n\\n\\n\\n\\n\\n\\nNotion Underground\\n\\n\\n\\n\\n\\n\\nTwist Earl Grey\\n\\n\\n\\n\\n\\n\\nNotion Airstream\\n\\n\\n\\n\\n\\n\\nVibes Steel\\n\\n\\n\\n\\n\\n\\nBennett Charcoal\\n\\n\\n\\n\\n\\n\\nRomo Lead\\n\\n\\n\\n\\n\\n\\nPoodle Cloud\\n\\n\\n\\n\\n\\n\\nNubia Linen\\n\\n\\n\\n\\n\\n\\nEton Ivory\\n\\n\\n\\n\\n\\n\\nEton Sand\\n\\n\\n\\n\\n\\n\\nImpact Flurry\\n\\n\\n\\n\\n\\n\\nMaestro Fleece Taupe\\n\\n\\n\\n\\n\\n\\nSimplex French Vanilla\\n\\n\\n\\n\\n\\n\\nNotion Hypnotic\\n\\n\\n\\n\\n\\n\\nTaylor Capri\\n\\n\\n\\n\\n\\n\\nPrestige Teal\\n\\n\\n\\n\\n\\n\\nNotion Odyssey\\n\\n\\n\\n\\n\\n\\nPrestige Navy\\n\\n\\n\\n\\n\\n\\nJulia Navy\\n\\n\\n\\n\\n\\n\\nPrestige Goldenrod\\n\\n\\n\\n\\n\\n\\nMaestro Fleece Loden\\n\\n\\n\\n\\n\\n\\nPrestige Forest\\n\\n\\n\\n\\n\\n\\nFlip Blush\\n\\n\\n\\n\\n\\n\\nRomo Paprika\\n\\n\\n\\n\\n\\n\\nNotion Tang\\n\\n\\n\\n\\n\\n\\nEverglades Graphite\\n\\n\\n\\n\\n\\n\\nPrima Espresso\\n\\n\\n\\nLeathers\\n\\n\\n\\n\\n\\nMont Blanc Smoke\\n\\n\\n\\n\\n\\n\\nEcho Limestone\\n\\n\\n\\n\\n\\n\\nWindsor Mahogany\\n\\n\\n\\n\\n\\n\\nNotting Hill Bourbon\\n\\n\\n\\n\\n\\n\\nMont Blanc Sycamore\\n\\n\\n\\n\\n\\n\\nBrompton Brown\\n\\n\\n\\n\\n\\n\\nBrompton Black\\n\\n\\n\\n\\n\\nQuantity\\n\\n\\nAdd to Cart\\n\\n\\n\\n\\n\\n\\n\\n\\n\\n\\n\\n\\n\\n\\nPreview Your Design\\n\\n\\n\\n\\n            Visualizing Perch products in your home with our AR (Augmented Reality) feature has never been easier.\\n          \\n\\n            Scan the QR code using your smartphone or tablet to see your configured design in your space.\\n          \\n\\n            Our AR feature is compatible with Safari for Apple devices and Google Chrome for Android devices.\\n          \\n\\n\\n\\n\\n\\n\\n\\nDescription\\nDesigned with simplicity in mind, the Hoyt Chair is anything but basic. Keep conversations flowing by placing a pair of these chairs in a room. The square silhouette and smart lines look even better when two chairs sit together. Plush cushions, and padded bolsters (which are stitched in place to keep the arms looking crisp and comfortable) make this chair the perfect place to chat or just relax.\\nSpecifications\\n\\nWe worry about the details of your furniture so you don\\'t have to.\\n\\nFrame: Kiln-dried hardwood frame (never particle board or pine).\\nJoints: Corner-blocked, high-pressure stapled, and glued (screwed and doweled frames also available).\\nSuspension: Unidirectional webbing (interwoven strips of nylon webbing that create a very stable platform for cushions).\\nCushions: Medium HR polyurethane foam. No flame retardants.\\nGlue: Low-VOC\\n38\" L x 36\" D x 34\" H\\nMakes a great swivel chair. Call or email for details.\\n\\n\\nDon\\'t see the right color? We have 100s of fabrics and leathers available at the Perch shop, including that perfect grey.\\n\\nOverall Dimensions\\n\\n\\nWidth: 38\"\\n\\n\\nDepth: 36\"\\n\\n\\nHeight: 34\"\\n\\n\\n\\n\\n\\n\\nCustomize it!\\nNeed more options? We can customize this item to your exact specification. Learn more.\\n\\n\\n\\n\\nStill Unsure?\\n\\n        We’ll send you some fabric samples\\nright to your door.\\n      \\nRequest Swatches\\n\\n\\n\\nShare this style\\n\\n\\n\\n\\nPinterest\\n\\n\\n\\n\\n\\nFacebook\\n\\n\\n\\n\\n\\nTwitter\\n\\n\\n\\n\\n\\n\\n\\n\\n    View the rest of the\\n     Collection\\n\\n\\n\\n\\n\\n\\n\\nBel Air Chair\\n                  \\n\\n\\n\\n\\n\\n\\n\\n\\nBelmont Chair\\n                  \\n\\n\\n\\n\\n\\n\\n\\n\\nBurnside Chair\\n                  \\n\\n\\n\\n\\n\\n\\n\\n\\nCarlisle Chair\\n                  \\n\\n\\n\\n\\n\\n\\n\\n\\nCatalina Chair\\n                  \\n\\n\\n\\n\\n\\n\\n\\n\\nCharlie Chair\\n                  \\n\\n\\n\\n\\n\\n\\n\\n\\nCooper Chair\\n                  \\n\\n\\n\\n\\n\\n\\n\\n\\nFremont Chair\\n                  \\n\\n\\n\\n\\n\\n\\n\\n\\nGracie Chair\\n                  \\n\\n\\n\\n\\n\\n\\n\\n\\nGramercy Chair\\n                  \\n\\n\\n\\n\\n\\n\\n\\n\\nHawthorne Chair\\n                  \\n\\n\\n\\n\\n\\n\\n\\n\\nIrving Chair\\n                  \\n\\n\\n\\n\\n\\n\\n\\n\\nLawson Chair\\n                  \\n\\n\\n\\n\\n\\n\\n\\n\\nLowe Chair\\n                  \\n\\n\\n\\n\\n\\n\\n\\n\\nQuinn Chair\\n                  \\n\\n\\n\\n\\n\\n\\n\\n\\nSterling Chair\\n                  \\n\\n\\n\\n\\n\\n\\n\\n\\nTaylor Chair\\n                  \\n\\n\\n\\n\\n\\n\\n\\n\\nVerona Chair\\n                  \\n\\n\\n\\n\\n\\n\\n\\n\\n\\n'"
      ]
     },
     "execution_count": 32,
     "metadata": {},
     "output_type": "execute_result"
    }
   ],
   "source": [
    "main_text[5]"
   ]
  },
  {
   "cell_type": "code",
   "execution_count": 263,
   "id": "9c8255b5",
   "metadata": {},
   "outputs": [],
   "source": [
    "#clean text\n",
    "import re\n",
    "main_text_clean = [re.sub('(\\n+)(?=\\n)','',txt) for txt in main_text]\n",
    "main_text_clean = [re.sub('\\n',' ',txt) for txt in main_text_clean]\n",
    "main_text_clean = [re.sub(r'\\s{2,}',' ',txt) for txt in main_text_clean]"
   ]
  },
  {
   "cell_type": "code",
   "execution_count": 264,
   "id": "afbac4b3",
   "metadata": {
    "scrolled": false
   },
   "outputs": [
    {
     "data": {
      "text/plain": [
       "' Home / Gift Cards Gift Cards Filter By {filter.label} (1) Selected: { value.label } ({value.count}) $ From $ To Apply All filters Filter by Filter by: products Clear all filters {filter.label} (1) { value.label } ({value.count}) {filter.label} (1) $ From $ To Clear all Apply () Apply products Sort by Sort Vendor: RJ Living $100 RJ Living Gift Card Vendor: RJ Living $100 RJ Living Gift Card Vendor: RJ Living $100 RJ Living Gift Card Vendor: RJ Living $100 RJ Living Gift Card Vendor: RJ Living $100 RJ Living Gift Card Vendor: RJ Living $100 RJ Living Gift Card Vendor: RJ Living $100 RJ Living Gift Card You are viewing out of products Load more products You may also like Save for later Vendor: RJ Living Sector Coffee Table - Earth Marble 4 colours Regular price $1,019.15 Regular price $1,199 Sale price $1,019.15 Unit price / per SALE 15% OFF Save for later Vendor: Saardé Flow Resin Salad Server - Earth 4 colours Regular price $50.15 Regular price $59 Sale price $50.15 Unit price / per SALE 15% OFF Save for later Vendor: RJ Living Quirk Armchair - Opal 4 colours Regular price $1,104.15 Regular price $1,299 Sale price $1,104.15 Unit price / per SALE 15% OFF Save for later Vendor: Paola and Joy Blake Table Lamp - Toffee 3 colours Regular price $169.15 Regular price $199 Sale price $169.15 Unit price / per SALE 15% OFF Sold Out Save for later Vendor: RJ Living Cross Shelving Unit Medium - Warm Beige Regular price $679.15 Regular price $799 Sale price $679.15 Unit price / per SALE 15% OFF Save for later Vendor: RJ Living Edge Round Coffee Table - Oak 2 colours Regular price $679.15 Regular price $799 Sale price $679.15 Unit price / per SALE 15% OFF Gift Cards '"
      ]
     },
     "execution_count": 264,
     "metadata": {},
     "output_type": "execute_result"
    }
   ],
   "source": [
    "main_text_clean[2]"
   ]
  },
  {
   "cell_type": "code",
   "execution_count": 266,
   "id": "e2128c29",
   "metadata": {},
   "outputs": [],
   "source": [
    "#save for future use\n",
    "import pickle\n",
    "with open('not_exits.pkl', 'wb') as f:\n",
    "    pickle.dump(not_exits, f)\n",
    "    \n",
    "with open('main_not_exixst.pkl', 'wb') as f:\n",
    "    pickle.dump(main_not_exixst, f)\n",
    "\n",
    "with open('main_text_clean.pkl', 'wb') as f:\n",
    "    pickle.dump(main_text_clean, f)"
   ]
  },
  {
   "cell_type": "markdown",
   "id": "910e873b",
   "metadata": {},
   "source": [
    "We will use chat gpt to inspect the text from the webpage and return a list of product names from it (RAG inspired). We will use this as the tags for the training and validation data."
   ]
  },
  {
   "cell_type": "code",
   "execution_count": 2,
   "id": "86b14237",
   "metadata": {
    "scrolled": true
   },
   "outputs": [],
   "source": [
    "from openai import OpenAI\n",
    "import os\n",
    "from dotenv import load_dotenv\n",
    "\n",
    "load_dotenv()\n",
    "\n",
    "client = OpenAI(api_key=os.environ['OPEN_AI_API_KEY'])"
   ]
  },
  {
   "cell_type": "code",
   "execution_count": 199,
   "id": "1ef055b9",
   "metadata": {},
   "outputs": [],
   "source": [
    "import ast\n",
    "\n",
    "products_list = []\n",
    "for text in main_text_clean:\n",
    "    prompt = f'''you will be provided with text extracted from a furniture store wesbite.\n",
    "This text will contain product names.\n",
    "Please provide a list of the product names found in the text.\n",
    "Give the list as a python list, if there are no products give an empty list.\n",
    "Please do not repeat items. Text: {text} Python list:''' \n",
    "    \n",
    "    try:\n",
    "        res = client.chat.completions.create(\n",
    "          model=\"gpt-3.5-turbo\",\n",
    "          messages=[\n",
    "            {\"role\": \"system\", \"content\": \"You are a helpful assistant.\"},\n",
    "            {\"role\": \"user\", \"content\": prompt},\n",
    "          ]\n",
    "        )\n",
    "\n",
    "        content = res.choices[0].message.content\n",
    "        try:\n",
    "            p_lst = re.search(r'\\[.*?\\]',content,flags=re.DOTALL).group()\n",
    "        except:\n",
    "            p_lst = '[]'\n",
    "        p_lst = ast.literal_eval(p_lst)\n",
    "        products_list.append(p_lst)\n",
    "    except:\n",
    "        products_list.append(None)"
   ]
  },
  {
   "cell_type": "code",
   "execution_count": 206,
   "id": "2adc3f40",
   "metadata": {
    "scrolled": true
   },
   "outputs": [
    {
     "name": "stdout",
     "output_type": "stream",
     "text": [
      "62 []  Email Spread the word Share Share on Facebook Tweet Tweet on Twitter Pin it Pin on Pinterest \n",
      "91 []  Welcome to Royal GardenIf you have a password to enter the site, please click the upper right hand link above to enter it. Wholesale Sign-up Loading… \n",
      "130 [] \n",
      "147 []  \n"
     ]
    }
   ],
   "source": [
    "for i,l in enumerate(products_list):\n",
    "    if l==[] or l==None:\n",
    "        print(i,l,main_text_clean[i])"
   ]
  },
  {
   "cell_type": "code",
   "execution_count": 231,
   "id": "6b08a99a",
   "metadata": {},
   "outputs": [],
   "source": [
    "with open('products_list.pkl','wb') as f:\n",
    "    pickle.dump(products_list,f)"
   ]
  },
  {
   "cell_type": "code",
   "execution_count": null,
   "id": "b35bbbf4",
   "metadata": {},
   "outputs": [],
   "source": []
  },
  {
   "cell_type": "code",
   "execution_count": null,
   "id": "fbf9b28e",
   "metadata": {},
   "outputs": [],
   "source": []
  },
  {
   "cell_type": "code",
   "execution_count": 307,
   "id": "d2c87dcb",
   "metadata": {},
   "outputs": [],
   "source": [
    "with open('products_list.pkl','rb') as f:\n",
    "    products_list = pickle.load(f)\n",
    "    \n",
    "with open('main_text_clean.pkl','rb') as f:\n",
    "    main_text_clean = pickle.load(f)"
   ]
  },
  {
   "cell_type": "code",
   "execution_count": 308,
   "id": "64cb6c23",
   "metadata": {
    "scrolled": true
   },
   "outputs": [
    {
     "data": {
      "text/plain": [
       "\" View in space Sale Sold Out Industrial 2x Handmade X Dining Table Bench Frame Steel Table Pedestal Legs TL009 2 reviews RusticLand £95.97 Unit price / per Size 35 x 40cm Bench 50 x 71cm Table 60 x 71cm Table 70 x 71cm Table Colour Raw Steel Black 35 x 40cm Bench / Raw Steel 35 x 40cm Bench / Black 50 x 71cm Table / Raw Steel 50 x 71cm Table / Black 60 x 71cm Table / Raw Steel 60 x 71cm Table / Black 70 x 71cm Table / Raw Steel 70 x 71cm Table / Black Quantity Cart Error Add to Cart Added Cart Error Add to Cart Added Sold Out Social Sharing Share on Facebook Share on Twitter Share on Pinterest 30315379523686 95.97 30315379654758 115.97 30315379556454 127.97 30315379687526 147.97 30315379589222 149.97 30315379720294 169.97 30315379621990 169.97 30315379753062 189.97 Introducing our Heavy Duty Industrial X Style Table Legs, designed to provide robust support and a stylish industrial aesthetic for your table. These table legs feature a strong steel construction with a 40x40mm box section and a top bar made of 40mm x 6mm flat bar. This set includes 2 table legs. Lead Time: Please note that for the Black Powder Coated finish, the lead time is 7-9 working days. This additional time is required for the coating process to ensure a high-quality and durable finish. Colours available: Mat Black Powder Coated Bare Steel (NO coating - unpainted, unprotected, will develop a natural rust over time) Sizes available: Bench: H40cm x W35cm Table: H71cm x W50cm Table: H71cm x W60cm Table: H71cm x W70cm These versatile legs can also be used as coffee table legs or to create side tables, offering flexibility in their application. The table legs are ideal for dining tables, desks, and console tables, providing stability and style. Each leg is pre-drilled with 6mm fixing holes, ensuring easy installation and compatibility with various table tops. Please note that the fixings required will vary depending on the table top you are using, and they are not included with the table legs. Experience the strength and industrial charm of our Heavy Duty Industrial X Style Table Legs, designed to elevate your table with their sturdy construction and versatile design. Whether for residential or commercial use, these table legs provide reliable support while adding a touch of industrial flair to your space. View more Description Product Reviews Delivery/Return Introducing our Heavy Duty Industrial X Style Table Legs, designed to provide robust support and a stylish industrial aesthetic for your table. These table legs feature a strong steel construction with a 40x40mm box section and a top bar made of 40mm x 6mm flat bar. This set includes 2 table legs. Lead Time: Please note that for the Black Powder Coated finish, the lead time is 7-9 working days. This additional time is required for the coating process to ensure a high-quality and durable finish. Colours available: Mat Black Powder Coated Bare Steel (NO coating - unpainted, unprotected, will develop a natural rust over time) Sizes available: Bench: H40cm x W35cm Table: H71cm x W50cm Table: H71cm x W60cm Table: H71cm x W70cm These versatile legs can also be used as coffee table legs or to create side tables, offering flexibility in their application. The table legs are ideal for dining tables, desks, and console tables, providing stability and style. Each leg is pre-drilled with 6mm fixing holes, ensuring easy installation and compatibility with various table tops. Please note that the fixings required will vary depending on the table top you are using, and they are not included with the table legs. Experience the strength and industrial charm of our Heavy Duty Industrial X Style Table Legs, designed to elevate your table with their sturdy construction and versatile design. Whether for residential or commercial use, these table legs provide reliable support while adding a touch of industrial flair to your space. Customer Reviews Based on 2 reviews Write a review 100% (2) 0% (0) 0% (0) 0% (0) 0% (0) A Andy Absolutely fantastic. I used the legs to convert an old out building door to a garden table. S Sophie Look brilliant on my table Delivery For small items: Please anticipate a lead time of 1-2 days. For tables and custom orders: The expected lead time is 2-3 weeks. In the case of bespoke items, the lead time may vary. We will furnish you with a specific timeline upon confirmation of your order. Once dispatched, delivery typically occurs within 2-3 days, applicable only for mainland UK. Cancellation/Returns Furniture that is bespoke made to order is not subject to distance selling regulations and is therefore non-returnable. However you are entitled to cancel your contract providing you act within 48h of placing your order via the website, telephone or in store. If you wish to exercise this right please email sales@rusticland.co.uk call us within the specified time frame. After the 48h cancellation period we have no further obligation to take back these Goods. Deliveries are made to the front door of your property. Any\\xa0changes from this standard must be arranged in advance. While our drivers are keen to assist, please note that if they need to enter your home, we cannot be held responsible for any incidental damages to your property. It is the customer's responsibility to ensure that the front door is of a sufficient size for the item to pass through. Should the furniture not fit through the door, and the customer wishes to return it, the customer will be responsible for a return cost of £60. Additionally, a 25% restocking fee will apply. Our drivers are generally more than willing to help you place the item inside your home, provided it does not pose a risk to their well-being or to the safety of your property. Kindly understand that all final delivery decisions are at the discretion of the driver. FAULTY AND DAMAGED ITEMS All our items are handmade to order, then thoroughly checked and carefully wrapped before dispatch. In the unlikely event that item has been handcrafted incorrectly, has obvious defects or arrived damaged, we will offer to replace the item free of change with the best possible lead time. Any damages or defects must be reported to us within a period of 14 days following delivery. Wall Mounted Breakfast Bar Made to measure avaliable Floating Wall Shelves Invisible mounting brackets included Sinday Roast With Family? Dining tables from our range suit any size room Working from Home? Fit your new desk within avaliable space - ask for customization if needed! Storage Needed? Double Shelves With Dedicated Metal Brackets May Help Add a title Share something exciting! Would you like to get Bespoke / Custom Size? We are here to help! Rustic Bar Tables Range of industrial bar tables and stools \""
      ]
     },
     "execution_count": 308,
     "metadata": {},
     "output_type": "execute_result"
    }
   ],
   "source": [
    "main_text_clean[145]"
   ]
  },
  {
   "cell_type": "markdown",
   "id": "b5cb59c1",
   "metadata": {},
   "source": [
    "Now we will make two lists:\n",
    "- texts which contains lists of the words in a webpage text \n",
    "- tags which contains lists of tags, tagging each word in the webpage text\n",
    "\n",
    "**We use IOB method for tagging**"
   ]
  },
  {
   "cell_type": "code",
   "execution_count": 309,
   "id": "f5076287",
   "metadata": {},
   "outputs": [],
   "source": [
    "texts = [re.split(',|;| ',text) for text in main_text_clean]\n",
    "tags = []\n",
    "\n",
    "for text,products in zip(texts,products_list):\n",
    "    tags_l = ['O' for _ in range(len(text))]\n",
    "    for product in products:\n",
    "        start_word = product.split()[0]\n",
    "        word_len = len(product.split())\n",
    "        #print(product)\n",
    "        for i in range(len(text)):\n",
    "            if start_word in text[i]:\n",
    "                if product in ' '.join(text[i:i+word_len]):\n",
    "                    if word_len>1:\n",
    "                        tags_l[i] = 'B-PRODUCT' \n",
    "                        tags_l[i+1:i+word_len] = ['I-PRODUCT']*(word_len-1)\n",
    "                        #print(text[i],tags_l[i])\n",
    "                        #print(text[i+1:i+word_len],tags_l[i+1:i+word_len])\n",
    "                    else:\n",
    "                        tags_l[i] = 'B-PRODUCT'\n",
    "    \n",
    "    tags.append(tags_l)"
   ]
  },
  {
   "cell_type": "code",
   "execution_count": 310,
   "id": "ecaceef1",
   "metadata": {},
   "outputs": [
    {
     "name": "stdout",
     "output_type": "stream",
     "text": [
      " O\n",
      " O\n"
     ]
    }
   ],
   "source": [
    "for i in range(len(tags[147])):\n",
    "    print(texts[147][i],tags[147][i])"
   ]
  },
  {
   "cell_type": "code",
   "execution_count": 282,
   "id": "529ec5d6",
   "metadata": {},
   "outputs": [],
   "source": [
    "for i in range(len(texts)):\n",
    "    if len(texts[i]) == 0:\n",
    "        print(i,tags[i])"
   ]
  },
  {
   "cell_type": "code",
   "execution_count": null,
   "id": "7b6362f3",
   "metadata": {},
   "outputs": [],
   "source": []
  },
  {
   "cell_type": "code",
   "execution_count": null,
   "id": "cbf16ad9",
   "metadata": {},
   "outputs": [],
   "source": []
  },
  {
   "cell_type": "code",
   "execution_count": 311,
   "id": "b5479846",
   "metadata": {},
   "outputs": [],
   "source": [
    "#save these for use when constructing the dataset for training\n",
    "with open('texts.pkl','wb') as f:\n",
    "    pickle.dump(texts,f)\n",
    "with open('tags.pkl','wb') as f:\n",
    "    pickle.dump(tags,f)"
   ]
  },
  {
   "cell_type": "markdown",
   "id": "beff372a",
   "metadata": {},
   "source": [
    "## Inference"
   ]
  },
  {
   "cell_type": "code",
   "execution_count": 1,
   "id": "dd99ec44",
   "metadata": {},
   "outputs": [],
   "source": [
    "import torch"
   ]
  },
  {
   "cell_type": "code",
   "execution_count": 2,
   "id": "8388a888",
   "metadata": {},
   "outputs": [],
   "source": [
    "#load saved fine tuned model\n",
    "from transformers import AutoModelForTokenClassification,AutoTokenizer\n",
    "model = AutoModelForTokenClassification.from_pretrained('./fine-tuned-ner')\n",
    "tokenizer = AutoTokenizer.from_pretrained('./fine-tuned-ner')"
   ]
  },
  {
   "cell_type": "code",
   "execution_count": 3,
   "id": "33f823f1",
   "metadata": {},
   "outputs": [],
   "source": [
    "import pickle\n",
    "with open('main_text_clean.pkl','rb') as f:\n",
    "    main_text_clean = pickle.load(f)\n",
    "with open('main_not_exixst.pkl','rb') as f:\n",
    "    main_not_exixst = pickle.load(f)"
   ]
  },
  {
   "cell_type": "code",
   "execution_count": 4,
   "id": "d12febd9",
   "metadata": {},
   "outputs": [],
   "source": [
    "test = main_text_clean[30]"
   ]
  },
  {
   "cell_type": "code",
   "execution_count": 5,
   "id": "152dbda7",
   "metadata": {
    "scrolled": true
   },
   "outputs": [
    {
     "data": {
      "text/plain": [
       "\" Vintage Leather & Harris Tweed Our Vintage Leather is the highest quality, aniline leather; We only use top quality, 100% natural leather and it is completely developed and coloured by hand from start to finish. This is the only way to get this totally authentic aged look. There are no short cuts here - and it results in beautiful, deep tones and patinas, aged to perfection and totally unique. Explore The Collection Fabric Sofas Soft to the touch and impossible to resist, our beautiful collection of fabric sofas has something for everyone, from stylish and contemporary, to elegant and classic. Explore The Collection Leather Sofas Leather sofas crafted from genuine leather hides, Our collection bring's a touch of class to your living space; from chic Italian to contemporary British designs, traditional Chesterfields & luxury designer brands. Explore The Collection Recliner Sofas Recliner sofas are just the thing to come home to after a long hard day - put your feet up and enjoy the ultimate in relaxation. From armchairs to 2 & 3 seater sofas, as well as corner and modular sofa options. From 100% real leather, leather air and fabrics, you're bound to find something in our collection of recliners. Explore The Collection Pet Friendly Fabrics Enjoy your sofa with complete peace of mind with Aquaclean Extreme, & let your pet do it too. Visit Us Click here to view our showroom address & opening hours. Contact Us Drop us an email\\xa0& we will be in touch within 48 hours to resolve your query. Sofa Measuring Guide Read our helpful guide on how to measure your sofa to make sure it’s a perfect fit. Shop By Collection Painted Furniture Collections Berkshire - Navy Blue & Brass Baroque Painted Collection Cross Country Grey and Oak Chester Dove Grey & Solid Oak Capri Solid Pine & White Painted Mabel Taupe Bedroom Marseille Grey Painted Nordic Grey Collection Parisian White Parisian Grey Stowe Grey Painted St.Ives French Grey & Oak St.Ives White Painted & Oak Sunbury Grey & Oak Winchester Oak & Painted Gaia Childrens Bedroom Furniture See more Oak Furniture Collections Addison Lite Natural Oak Barnham Oak Bath Oak Bakerloo Solid Oak Bevel Natural Solid Oak Berkley Nordic Oak Breeze Oak Cannes Natural Oak Chambery Natural Oak Dalston Oak Industrial Earlswood Oak Flora Grey Washed Oak Grand Parquet Oak Harkuta Oak Ramore Oak Romsey Solid Oak Sailsbury Solid Oak Bedroom Sailsbury Solid Oak Living & Dining Torino Country Solid Oak Wiltshire Country Oak Wiltshire Natural Oak See more Wooden Furniture Collections Augusta Pine Akash Chevron Parquet Mango Wood Bombay Mango Living & Dining Bombay Mango Bedroom Boston Dark Wood Bedroom Carved Mango Wood Cuban Mango Cuban Petite Sheesham Corona Waxed Pine Draftsmen Pine Grove Havana Gold Pine Iron Works Mango Janeiro Mango Wood Maya Light Mango Wood Metro Industrial Mango Wood Opal Fluted Mango Wood & Marble Prague Live Edge Strand Walnut Thacket Sheesham See more Marble, Ceramic & Stone Furniture Collections Ariel Marble Collection Arturo Marble Collection Chelsea Marble Collection Louis Polished Steel & Marble Collection Louis Gold & Black Marble Collection Miles Charcoal Fluted Mango & White Marble Milo Walnut Fluted Mango & White Marble Opal Fluted Mango Wood & Marble Louis Stone / Glass & Gold Collection Zeus Grey Ceramic See more Contemporary Furniture Collections Angelica - White Oak Augusta Driftwood Augusta Grey Augusta White Barcelona Black Oak & Copper Barcelona Matt Black Capri Silver Chelsea White High Gloss & Truffle Oak Trim Docklands Concrete & Grey Wash Detroit White & Carbon Grey Oak Woodgrain Madrid Grey & Gold Madrid Matt Black New York Smoked Oak-Bleached Grey Novi Alpine White Rena Matt Black & Walnut Softline Grey Bedroom Stretto - Slate Grey & Alpine White Vegas Grey & Bleached Oak See more Mirrored Furniture Collections Lucca Grey Mirrored Crushed Diamond Mirrored Rosa Geometric Mirrored Taylor Grey & Mirrored Ivy Grey Mirrored Jessica Champagne Mirrored Chairs Armchairs & Love Chairs Recliner Chairs & Armchairs Swivel & Cuddler Chairs Accent Chairs & Occasional Chairs Wingback Armchairs Rocking Chairs Mobility Rise & Recline Chairs Chaise Longues Chair & Footstool Set's See more Staingard - Stain & Accidental Damage Additional Warranties Staingard - Fabric Furniture Insurance Staingard - Leather Furniture Insurance Sofas Fabric Sofas Velvet Sofas Leather Sofas Luxury Italian Leather Sofas Vintage Leather & Harris Tweed Collection Recliner Sofas & Chairs Corner Sofas Modular Sofas Sofa Bed's Sofa Sets See more Decor Artificial Plants & Flowers Decorative Accessories Clocks Cushions Table Lamps Wall Art Wall Mirrors Cheval & Wall Leaner Mirrors Wall Hooks & Shelf's See more Footstools & Benches Footstools & Ottomans Benchs & Stools Bean Bags & Pouffes Interior Design Ideas & Style Inspiration How Can Nesting Tables Add Style to Your Rooms Without Compromising on Space ? Styling your home or some space is met with enthusiasm by many. As interesting as this task is, it might also be very tiring and, at some point, become frustrating if not planned well, so it is important to sort... Read now Interior Design Trends & Styles You Can Expect In 2022 ! We are all hoping for a\\xa0fresh start this new year with more liveliness and happiness! So, let’s welcome 2022 with new energy and new home interiors! Let’s\\xa0style your home with the hottest interior design trends set for 2022. Yes, interior... Read now Why Buy Luxury Italian Leather Sofas Over Standard Leather Sofas ? What makes Italian leather sofas & chairs so\\xa0luxurious ? Well, simply put, everything! Italian leather tanning is a process entirely dependent on quality and sophistication. Quality Italian leather provides a highly durable material for your furniture that will last... Read now See more \""
      ]
     },
     "execution_count": 5,
     "metadata": {},
     "output_type": "execute_result"
    }
   ],
   "source": [
    "test"
   ]
  },
  {
   "cell_type": "code",
   "execution_count": 6,
   "id": "f2d5283a",
   "metadata": {},
   "outputs": [],
   "source": [
    "inputs = tokenizer(test,return_tensors='pt',truncation=True)\n",
    "with torch.no_grad():\n",
    "    outputs = model(**inputs)"
   ]
  },
  {
   "cell_type": "code",
   "execution_count": 7,
   "id": "295c51fd",
   "metadata": {},
   "outputs": [],
   "source": [
    "predicted = outputs.logits.argmax(dim=-1)"
   ]
  },
  {
   "cell_type": "code",
   "execution_count": 8,
   "id": "09a8c779",
   "metadata": {},
   "outputs": [],
   "source": [
    "def get_products_list(inputs,predicted):\n",
    "\n",
    "    met_word = False\n",
    "    prods = []\n",
    "    prev_word_id = None\n",
    "    for i,label in enumerate(predicted[0]):\n",
    "        word_id = inputs.word_ids(batch_index=0)[i]\n",
    "        if label == 1 and not met_word:\n",
    "            prod_start = i\n",
    "            met_word = True\n",
    "        elif label == 1 and met_word and prev_word_id!=word_id:\n",
    "            prod_end = i\n",
    "            prod = tokenizer.decode(inputs['input_ids'][0][prod_start:prod_end])\n",
    "            prods.append(prod)\n",
    "            prod_start = i\n",
    "        elif label == 0 and met_word:\n",
    "            prod_end = i\n",
    "            prod = tokenizer.decode(inputs['input_ids'][0][prod_start:prod_end])\n",
    "            prods.append(prod)\n",
    "            met_word = False\n",
    "\n",
    "        prev_word_id = word_id\n",
    "    return prods\n",
    "        \n"
   ]
  },
  {
   "cell_type": "code",
   "execution_count": 9,
   "id": "c8f718c7",
   "metadata": {
    "scrolled": true
   },
   "outputs": [
    {
     "data": {
      "text/plain": [
       "['##tage', 'Leather & Harris Tweed Our', 'So']"
      ]
     },
     "execution_count": 9,
     "metadata": {},
     "output_type": "execute_result"
    }
   ],
   "source": [
    "get_products_list(inputs,predicted)"
   ]
  },
  {
   "cell_type": "code",
   "execution_count": null,
   "id": "ac15343b",
   "metadata": {},
   "outputs": [],
   "source": []
  },
  {
   "cell_type": "markdown",
   "id": "6d4c9be9",
   "metadata": {},
   "source": [
    "Write function to get url and return a list of product names"
   ]
  },
  {
   "cell_type": "code",
   "execution_count": 10,
   "id": "06dde1c7",
   "metadata": {},
   "outputs": [],
   "source": [
    "import re\n",
    "def clean_text(text):\n",
    "    clean = re.sub('(\\n+)(?=\\n)','',text) #remove all \\n except last one\n",
    "    clean = re.sub('\\n',' ',clean) #replace last \\n with ' '\n",
    "    clean = re.sub(r'\\s{2,}',' ',clean) #replace two or more consecutive ' ' with one ' '\n",
    "    return clean"
   ]
  },
  {
   "cell_type": "code",
   "execution_count": 11,
   "id": "7a558e40",
   "metadata": {},
   "outputs": [],
   "source": [
    "import requests\n",
    "from bs4 import BeautifulSoup\n",
    "\n",
    "def get_products_list_from_url(url):\n",
    "    prods_list = []\n",
    "    try:\n",
    "        response = requests.get(url)\n",
    "        soup = BeautifulSoup(response.text, 'html.parser')\n",
    "        \n",
    "        main_content = soup.find('main')\n",
    "        if main_content:\n",
    "            text = main_content.get_text()\n",
    "            text = clean_text(text)\n",
    "        else:\n",
    "            text = soup.find().get_text()\n",
    "            text = clean_text(text)\n",
    "            \n",
    "        inputs = tokenizer(text,return_tensors='pt',truncation=True) #truncate if over 512 max tokens for model\n",
    "        with torch.no_grad():\n",
    "            outputs = model(**inputs)\n",
    "        predicted = outputs.logits.argmax(dim=-1)\n",
    "        \n",
    "        return (get_products_list(inputs,predicted),text)\n",
    "    except:\n",
    "        return [],''"
   ]
  },
  {
   "cell_type": "code",
   "execution_count": 24,
   "id": "a0bf82fa",
   "metadata": {},
   "outputs": [],
   "source": [
    "prods, txt = get_products_list_from_url(main_not_exixst[27])"
   ]
  },
  {
   "cell_type": "code",
   "execution_count": 25,
   "id": "c2d1f127",
   "metadata": {
    "scrolled": true
   },
   "outputs": [
    {
     "data": {
      "text/plain": [
       "['Albini',\n",
       " '& Franca Helg Jin Kuramoto',\n",
       " 'Buffet Nanna',\n",
       " '& Jørgen',\n",
       " 'Ditzel Robert',\n",
       " 'W. Tove Kindt - Larsen V',\n",
       " 'Bo',\n",
       " 'Albin',\n",
       " 'Ku',\n",
       " 'Buffet',\n",
       " 'Nanna',\n",
       " '& Jørgen',\n",
       " 'Ditzel Robert',\n",
       " 'W. Tove Kindt - Larsen V',\n",
       " 'Bo',\n",
       " '##n',\n",
       " 'Furn',\n",
       " 'Chairs Dining',\n",
       " 'Tables',\n",
       " 'Lounge',\n",
       " 'Chairs Swings Sofas Coffee Tables Ottomans',\n",
       " '& Poufs Headboards',\n",
       " '##s Benches Bar',\n",
       " '& Foot',\n",
       " 'Stools Bar Trolleys',\n",
       " 'Shelves',\n",
       " 'Chairs',\n",
       " 'Garden',\n",
       " 'Tables Lounge',\n",
       " 'Chairs Swings Sunbeds Sofas Coffee',\n",
       " 'Tables',\n",
       " '& Stools Bar Trolley']"
      ]
     },
     "execution_count": 25,
     "metadata": {},
     "output_type": "execute_result"
    }
   ],
   "source": [
    "prods"
   ]
  },
  {
   "cell_type": "code",
   "execution_count": 26,
   "id": "39ab4bfb",
   "metadata": {
    "scrolled": true
   },
   "outputs": [
    {
     "data": {
      "text/plain": [
       "\" All Products - Sika-Design.com Store locator Catalogues Press Downloads B2B Shop 0 Cart Products Designers Arne Jacobsen Franco Albini & Franca Helg Jin Kuramoto Michel Buffet Nanna & Jørgen Ditzel Robert W. Tove Kindt-Larsen Viggo Boesen Yuzuru Yamakawa For professionals B2B Shop Downloads Partners & agents New B2B customer Projects Events Catalogues Press About us Our history Responsibility What is Rattan? Our Partners Store locator Contact Our team Jobs & careers Responsibility Products Designers Arne Jacobsen Franco Albini & Franca Helg Jin Kuramoto Michel Buffet Nanna & Jørgen Ditzel Robert W. Tove Kindt-Larsen Viggo Boesen Yuzuru Yamakawa For professionals B2B Shop Downloads Partners & agents New B2B customer Projects Events Catalogues Press About us Our history Responsibility What is Rattan? Our Partners Store locator Contact Our team Jobs & careers Responsibility Search 0 Cart Indoor Furniture Dining Chairs Dining Tables Lounge Chairs Swings Sofas Coffee Tables Ottomans & Poufs Headboards Daybeds Benches Bar & Foot Stools Bar Trolleys Shelves Children's furniture Fabrics Cushions | Interior Garden & Outdoor Furniture Garden Chairs Garden Tables Lounge Chairs Swings Sunbeds Sofas Coffee Tables Ottomans & Stools Bar Trolleys Cafe Chairs Café Tables Benches Outdoor Baskets Outdoor Lampshades Fabrics Cushions | Exterior Covers Interior & Accessories Children's furniture Carpets Bedspreads Plaids Pillow Covers Baskets Lampshades Decoration Vases Lanterns Mirrors Trays Collections ICONS Originals Affäire Teak interior Exterior Georgia Garden Alu Affäire Teak exterior Atmosphere Menu title This section doesn’t currently include any content. Add content to this section using the sidebar. Menu title This section doesn’t currently include any content. Add content to this section using the sidebar. Menu title This section doesn’t currently include any content. Add content to this section using the sidebar. Home All Products All Products All All Products Add Affaire Alu Affaire Alu Rattan Aluminum Arne Jacobsen Artfibre Atmosphere Back cushion Bar Stool Bar Stools and Stools Bar Table Bar Trolley Basket Baskets Bed Cover Bedroom Bench Café Chairs and Tables Café Table candle light holder Carpets Chain Chair Chairs and Benches Coffee Table Console Desk Dining Chair Dining Table Exterior Exterior cushion Exterior ICONS Foot Stool Franco Albini Garden Chair Garden Sofa Garden Table Georgia Garden glas Glass Hanging Chair Hide Hook ICONS Indoor info_affaire_2 info_alu-affaire_2 info_arne-jacobsen_1 info_core-weave-atmosphere_2 info_core-weave_2 info_cushions_3 info_exterior-core-weave_2 info_exterior-glass_3 info_exterior_2 info_franco-albini_1 info_georgia-garden_2 info_icons_2 info_indoor-glass_3 info_indoor-teak_2 info_jin-kuramoto_1 info_loom_2 info_michel-buffet_1 info_nanna-ditzel_1 info_originals_2 info_outdoor-teak_2 info_quickdry-foam_3 info_rattan-atmosphere_2 info_robert-w_1 info_tempotest-fabrics_3 info_tove-kindt-larsen_1 info_viggo-boesen_1 info_yuzuru-yamakawa_1 Interior cushion Kids Furniture Kindt-Larsen Lamp Lamps Lampshade Lampshades Lantern Lanterns Loom Lounge and Hanging Chairs Lounge Chair Mirror Mirrors Nanna Ditzel Natural Neck cushion NEW originals Ottoman Outdoor Outdoor Bar Stools and Stools Outdoor Bar Trolleys Outdoor Baskets Outdoor Chairs and Benches Outdoor Lampshades Outdoor Lounge and Hanging Chairs Outdoor Sofas Outdoor Tables Pottery Rattan Robert W. Rocking Chair Scent Sticks Seat & back cushion Seat cushion Shelves Side Table Sofa Sofas and Daybeds Spirit Animal Stock Stool Storage and Shelves Sunbed Sunbeds and Daybeds Table Teak Teak Bench Teak Exterior Teak Interior Teak Table Tray Trolley Udendørs kurve Viggo Boesen Wicker Yuzuru Yamakawa Featured Best Selling Alphabetically: A-Z Alphabetically: Z-A Price: Low to High Price: High to Low Date: New to Old Date: Old to New Lulu Dining Chair €349,00 Celia Headboard €619,00 Celia Headboard €619,00 Alexander Teak Coffee Table €1.495,00 Ottoman Small €459,00 Ottoman Small €459,00 James Exterior Trolley €1.325,00 James Exterior Trolley €1.325,00 Lucas Teak Console €965,00 Ottoman Large €499,00 Ottoman Large €499,00 Susy Exterior Side Table €515,00 Susy Exterior Side Table €515,00 Roger Stool €249,00 Scent Sticks €22,00 Chain for Hanging Egg Chair €199,00 Luis Bench €919,00 Natalia Headboard €585,00 Natalia Headboard €585,00 Blues Counter Stool €629,00 Marche Basket €119,00 Marche Basket €119,00 Carlo Bar Trolley €659,00 Salsa Bar Stool €379,00 Charlottenborg Coffee Table €695,00 Healthy Animal | Large €19,00 George Teak Table Ø160 cm €2.255,00 Isabell Bar Stool €529,00 Rooster Hook €10,00 Anna Exterior Side Table €589,00 Anna Exterior Side Table €589,00 George Teak Bench €1.245,00 George Teak Extendable Table 200/280x100 cm €3.959,00 Lucas Teak Extendable Table 200/280X100 cm €3.985,00 Lucas Teak Dining Table 240X100 cm €2.895,00 Lucas Teak Dining Table 180X100 cm €2.155,00 Alfred Teak Coffee Table €1.129,00 Alfred Teak Coffee Table €879,00 Alfred Teak Side Table €579,00 Simone Stool €299,00 Simone Stool €299,00 Lucas Teak Mirror | 100 cm €519,00 Shelly Teak Shelves Low €979,00 Tangelo Lamp Shade | Extra Small €85,00 Healthy Animal | Small €15,00 Jute Carpet 200X300 €639,00 Jute Carpet 140X200 €319,00 Bedspread 240X260 cm €259,00 Bedspread 240X260 cm €259,00 Bedspread 240X260 cm €259,00 Bedspread 240X260 cm €259,00 Bedspread 240X260 cm €259,00 Bedspread 240X260 cm €259,00 Bedspread 240X260 cm €259,00 Bedspread 200X230 cm €204,00 Bedspread 200X230 cm €204,00 Bedspread 200X230 cm €204,00 Bedspread 200X230 cm €204,00 Bedspread 200X230 cm €204,00 Plaid 140X200 cm €131,00 Plaid 140X200 cm €131,00 Plaid 140X200 cm €131,00 Plaid 140X200 cm €131,00 Plaid 140X200 cm €131,00 Plaid 140X200 cm €131,00 Plaid 140X200 cm €131,00 Plaid 140X200 cm €131,00 Plaid 140X200 cm €131,00 Plaid 140X200 cm €131,00 Plaid 140X200 cm €131,00 Terracotta Pot | Small €17,00 Terracotta Pot | Small €17,00 Terracotta Vase | Small €32,00 George Teak Round Table Ø120 cm €1.865,00 Colonial Teak Table 160x100 cm €2.089,00 Colonial Teak Table 200x100 cm €2.419,00 Donatello Side Table €535,00 Donatello Side Table €535,00 Caroline Exterior Side Table €789,00 Caroline Exterior Side Table €789,00 Caroline Exterior Side Table €789,00 Ottoman Exterior Large €699,00 Ottoman Exterior Small €549,00 Load More Products Rynkebyvej 245 5350 Rynkeby(+45) 6615 4224webshop@sika-design.comCVR 3147 6712 Information Our History Privacy Terms and Conditions Employees Store locator Jobs & careers Designers Arne Jacobsen Franco Albini & Franca Helg Jin Kuramoto Michel Buffet Nanna & Jørgen Ditzel Robert W. Tove Kindt-Larsen Viggo Boesen Yuzuru Yamakawa Press Imagebank Press release Professionals B2B Shop Downloads Partners & agents New B2B customer Projects Events Catalogues Press © 2024 Sika-Design.com | Sika-Design.dk | Sika-Design.eu | Sika-Design.de PayPal Search What are you looking for? \""
      ]
     },
     "execution_count": 26,
     "metadata": {},
     "output_type": "execute_result"
    }
   ],
   "source": [
    "txt"
   ]
  },
  {
   "cell_type": "code",
   "execution_count": null,
   "id": "36523657",
   "metadata": {},
   "outputs": [],
   "source": []
  },
  {
   "cell_type": "code",
   "execution_count": null,
   "id": "8c023eaf",
   "metadata": {},
   "outputs": [],
   "source": []
  },
  {
   "cell_type": "code",
   "execution_count": null,
   "id": "2e4bf5d9",
   "metadata": {},
   "outputs": [],
   "source": []
  },
  {
   "cell_type": "markdown",
   "id": "7511fe5f",
   "metadata": {},
   "source": [
    "## Next steps and improvements\n",
    "\n",
    "- add evaluation metric on validation data to see how well model performs. At the moment i only used training loss to gauge the performance however precision,recall,f1 should also be computed.\n",
    "- deal with texts which go over model limit. A solution would be to break the texts into smaller chunks in case they are too big and then use those for training (this way we dont lose any data and will have more training data), also for inference we could do the same and feed to the model more chunks broken from a single webpage.\n",
    "- make interface with gradio\n",
    "- deal with product list not always containing words. There are cases when model might predict a sub token as being a single product, these are mistakes and should be excluded from the list returned.\n",
    "- examine the webpages a bit more and maybe find a better way to extract relevant text"
   ]
  },
  {
   "cell_type": "markdown",
   "id": "3589cf8c",
   "metadata": {},
   "source": [
    "## Struggles \n",
    "\n",
    "- At first i wasant sure how to tag sample texts to be used for training. In the end i chose to use llm to give me a list of the products found in the text and then use that list to tag each word. This turned out to be a pretty good method and i was able to produce a reliable dataset. I also chose to use the webpages which had a clear indication of what the main section is in the html, thankfully these were plenty for training.\n",
    "- I also struggled with training. At first i tried using the high level Trainer class from huggingface, however after training for a couple of epochs the model was not predicting anything and it was telling me that there was no log of the training loss. I then also tried training with my own training loop and printed the loss at the end of every epoch, i have seen that the loss is indeed decreasing which made me realise that i need to train for way more epochs than i first did. Therefore i believe my mistake was not training for long enough which made the Trainer class not display accurate metrics for the first few epochs."
   ]
  },
  {
   "cell_type": "markdown",
   "id": "c93b56b2",
   "metadata": {},
   "source": [
    "## Learning outcomes\n",
    "\n",
    "- what NER is\n",
    "- how to use BeautifulSoup to extract text from webpages\n",
    "- how to fine tune a NER model from hugging face \n",
    "- how to construct custom data sets compatible with hugging face (for NER)"
   ]
  },
  {
   "cell_type": "code",
   "execution_count": null,
   "id": "f17ef935",
   "metadata": {},
   "outputs": [],
   "source": []
  }
 ],
 "metadata": {
  "kernelspec": {
   "display_name": "Python 3 (ipykernel)",
   "language": "python",
   "name": "python3"
  },
  "language_info": {
   "codemirror_mode": {
    "name": "ipython",
    "version": 3
   },
   "file_extension": ".py",
   "mimetype": "text/x-python",
   "name": "python",
   "nbconvert_exporter": "python",
   "pygments_lexer": "ipython3",
   "version": "3.11.5"
  }
 },
 "nbformat": 4,
 "nbformat_minor": 5
}
